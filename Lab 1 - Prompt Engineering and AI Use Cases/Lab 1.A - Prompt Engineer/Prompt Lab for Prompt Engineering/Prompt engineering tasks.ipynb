{
 "cells": [
  {
   "cell_type": "markdown",
   "metadata": {},
   "source": [
    "# Prompt Engineering Exercise (English)\n",
    "***\n",
    "\n",
    "Use the Prompt Lab or Prompt Builder from watsonx.ai to complete the following exercises\n",
    "\n",
    "__Exercise__\n",
    "\n",
    "| __Exercise__ | __Goal__ |\n",
    "| --- | --- |\n",
    "| 1. Generate | Create 3 sentences about Vietnam |\n",
    "| 2. Rewrite | Convert markdown to HTML |\n",
    "| 3. Summarize | Summarize a short story |\n",
    "| 4. Summary points | Create a list of topics from a meeting transcript |\n",
    "| 5. Study questions | Anticipate questions that may be asked by customers |\n",
    "| 6. Text extraction | Extract verbs found in a sentence |\n",
    "| 7. Compare | Identify similarities found in several paragraphs |\n",
    "| 8. Text search | Find pages that contain the searched word |\n",
    "| 9. Classify | Detect the desires or intentions of a chatbot user |\n",
    "| 10. Anomaly detection | Find unusual entries |\n",
    "| 11. Math question | How many minutes are in a day? |\n",
    "| 12. Writing with persona | Rewrite sentences in a different style |\n"
   ]
  },
  {
   "cell_type": "markdown",
   "metadata": {},
   "source": [
    "### 1. Generate\n",
    "***\n",
    "\n",
    "__`Goal: Create 3 sentences about Ha Long Bay`__\n",
    "\n",
    "example:\n",
    "\n",
    "3 sentences about Hoan Kiem Lake:\n",
    "- Hoan Kiem Lake is a historic lake located in the heart of Hanoi.\n",
    "- Hoan Kiem Lake is associated with the legend of the Hoan Kiem turtle and the magic sword.\n",
    "- The lake is surrounded by scenic spots, including Ngoc Son Temple and the Huc Bridge.\n",
    "\n",
    "3 sentences about My Son Sanctuary:\n",
    "- My Son Sanctuary is a cluster of abandoned and partially ruined Hindu temples in central Vietnam.\n",
    "- The temples were constructed between the 4th and the 14th century by the kings of Champa.\n",
    "- My Son Sanctuary is recognized as a UNESCO World Heritage Site.\n",
    "\n",
    "_hint: copy paste the example and give instructions to create 3 sentences about Ha Long Bay to give the model more context about the given instructions_\n"
   ]
  },
  {
   "cell_type": "code",
   "execution_count": null,
   "metadata": {},
   "outputs": [],
   "source": [
    "Write 3 sentences about the given topic. Each sentence must start with a number. The sentences must be different from each other. The output should consist of 3 sentences and have a structure similar to examples 1 and 2.\n",
    "\n",
    "3 sentences about Hoan Kiem Lake:\n",
    "- Hoan Kiem Lake is a historic lake located in the heart of Hanoi.\n",
    "- Hoan Kiem Lake is associated with the legend of the Hoan Kiem turtle and the magic sword.\n",
    "- The lake is surrounded by scenic spots, including Ngoc Son Temple and the Huc Bridge.\n",
    "\n",
    "3 sentences about My Son Sanctuary:\n",
    "- My Son Sanctuary is a cluster of abandoned and partially ruined Hindu temples in central Vietnam.\n",
    "- The temples were constructed between the 4th and the 14th century by the kings of Champa.\n",
    "- My Son Sanctuary is recognized as a UNESCO World Heritage Site.\n",
    "\n",
    "3 sentences about Ha Long Bay:\n"
   ]
  },
  {
   "cell_type": "markdown",
   "metadata": {},
   "source": [
    "Use the different models available to get different results. Set the maximum tokens to __200__.\n",
    "\n",
    "`llama-3-70b-instruct`\n",
    "\n",
    "3 sentences about Ha Long Bay: \n",
    "- Ha Long Bay is located in the Gulf of Tonkin, off the coast of northern Vietnam.\n",
    "- Ha Long Bay is known for its stunning natural scenery, with over 1,600 limestone islands and islets.\n",
    "- The bay is a popular tourist destination, attracting millions of visitors every year.\n",
    "\n",
    "\n",
    "`mixtral-8x7b-instruct-v01`\n",
    "\n",
    "3 sentences about Ha Long Bay:\n",
    "- Ha Long Bay is a popular tourist destination located in Quang Ninh province, Vietnam.\n",
    "- The bay features thousands of limestone karsts and islets in various sizes and shapes.\n",
    "- Visitors can enjoy activities such as kayaking, swimming, and cruising in the bay.\n"
   ]
  },
  {
   "cell_type": "markdown",
   "metadata": {},
   "source": [
    "### 2. Rewrite\n",
    "***\n",
    "\n",
    "__`Goal: Changing Markdown into HTML`__\n",
    "\n",
    "\n"
   ]
  },
  {
   "cell_type": "code",
   "execution_count": null,
   "metadata": {},
   "outputs": [],
   "source": [
    "# Example 1\n",
    "Markdown:\n",
    "## Welcome to my website!!!\n",
    "I am very excited to share my daily life and activities with you. Here I will discuss various topics such as technology, travel, and personal growth. Stay tuned if you want to keep getting the latest updates!\n",
    "\n",
    "HTML:\n",
    "<h2>Welcome to my website!!!</h2> <p>I am very excited to share my daily life and activities with you. Here I will discuss various topics such as technology, travel, and personal growth. Stay tuned if you want to keep getting the latest updates!</p>\n"
   ]
  },
  {
   "cell_type": "code",
   "execution_count": null,
   "metadata": {},
   "outputs": [],
   "source": [
    "# Example 2\n",
    "Markdown:\n",
    "# This is a level 1 heading\n",
    "## This is a level 2 heading\n",
    "### This is a level 3 heading\n",
    "\n",
    "This is a text paragraph.\n",
    "\n",
    "* This is the first point\n",
    "* This is the second point\n",
    "\n",
    "This is a link: [Google](https://www.google.com/)\n",
    "\n",
    "HTML:\n",
    "<h1>This is a level 1 heading</h1>\n",
    "<h2>This is a level 2 heading</h2>\n",
    "<h3>This is a level 3 heading</h3>\n",
    "\n",
    "<p>This is a text paragraph.</p>\n",
    "\n",
    "<ul>\n",
    "<li>This is the first point</li>\n",
    "<li>This is the second point</li>\n",
    "</ul>\n",
    "\n",
    "<a href=\"https://www.google.com/\">Google</a>\n"
   ]
  },
  {
   "cell_type": "markdown",
   "metadata": {},
   "source": [
    "__Create a HTML from the provided text\n",
    "change markdown to HTML.__\n",
    "\n",
    "`Please try this several models: flan-ul2-20b, llama-3-70b-instruct, starcoder-15.5b`"
   ]
  },
  {
   "cell_type": "code",
   "execution_count": null,
   "metadata": {},
   "outputs": [],
   "source": [
    "Markdown:\n",
    "##Background\n",
    "[IBM Watson Natural Language Processing library](https://dataplatform.cloud.ibm.com/docs/content/wsj/analyze-data/watson-nlp.html) is a python library that provides the basic capabilities of Natural Language Processing (NLP ) such as syntax analysis, keyword extraction with out-of-the-box pre-trained models.\n",
    "The Watson NLP library also makes it easy to customize domain specific terms.\n",
    "\n",
    "HTML:??"
   ]
  },
  {
   "cell_type": "code",
   "execution_count": null,
   "metadata": {},
   "outputs": [],
   "source": [
    "Markdown:\n",
    "[MURAL](https://mural.co) is online software that is similar to a virtual whiteboard: you can draw shapes, add sticky notes, write notes, and move them around. Murals are a great tool for visually depicting ideas, designing solutions, and collaborating with teammates in real time or asynchronously.\n",
    "\n",
    "HTML: ??"
   ]
  },
  {
   "cell_type": "code",
   "execution_count": null,
   "metadata": {},
   "outputs": [],
   "source": [
    "Markdown:\n",
    "# Article Title\n",
    "Using LLMs is fairly easy: Give commands to the model using text (example: \"I walk my pet\") and the model generates text that continues those words (example: \"take a walk in the park\")\n",
    "\n",
    "HTML: ??"
   ]
  },
  {
   "cell_type": "code",
   "execution_count": null,
   "metadata": {},
   "outputs": [],
   "source": [
    "Markdown:\n",
    "### Hall of shame: When LLMs make mistakes, Even the creators can't explain the resulting answers thoroughly: [ChatGPT creators don't know why models are reluctant to talk about Trump](https://www.semafor.com/\n",
    "article/02/03/2023/how-chatgpt-inadvertently-learned-to-avoid-talking-about-trump)\n",
    "\n",
    "HTML: ??"
   ]
  },
  {
   "cell_type": "markdown",
   "metadata": {},
   "source": [
    "### 3. Summarize\n",
    "***\n",
    "\n",
    "__`Goal: Summarizing a short story`__\n",
    "\n"
   ]
  },
  {
   "cell_type": "markdown",
   "metadata": {},
   "source": [
    "`Short Stories 1`\n",
    "\n",
    "In a hospital, there was a doctor named Dr. Andy. Dr. Andi is a very dedicated doctor. He wants to provide the best health services for his patients. However, Dr. Andi faces challenges because there is a lot of medical data that must be analyzed. One day, Dr. Andi got help from a technology company. The company provided dr. Andi's tools are in the form of an artificial intelligence (AI) system that can help him analyze medical data. Dr. Andi was very happy. He can diagnose his patient's illness more quickly and accurately.\n",
    "\n",
    "Summary: Medical data and AI help dr. Andi diagnoses his patients' illnesses more quickly and accurately."
   ]
  },
  {
   "cell_type": "markdown",
   "metadata": {},
   "source": [
    "`Short Stories 2`\n",
    "\n",
    "In a village, there was a farmer named Pak Budi. Pak Budi is a tenacious and persistent farmer. He wants to increase agricultural productivity. One day, Mr Budi got help from a technology company. The company provides Pak Budi with tools in the form of an AI system that can help him manage his farm. Mr Budi was very happy. He can increase agricultural productivity more easily and efficiently.\n",
    "\n",
    "Summary: AI helps Pak Budi increase his agricultural productivity more easily and efficiently."
   ]
  },
  {
   "cell_type": "markdown",
   "metadata": {},
   "source": [
    "__Summarize the short story given using a sentence consisting of 2-5 words, do as in the example above.__\n",
    "\n",
    "`try with some model types like: granite-13b-instruct-v1, flan-ul2-20b, llama-3-70b-instruct`"
   ]
  },
  {
   "cell_type": "code",
   "execution_count": null,
   "metadata": {},
   "outputs": [],
   "source": [
    "# Short Stories 4\n",
    "\n",
    "In a company, there is a businessman named Mr. Budi. Pak Budi is a smart and innovative businessman.\n",
    "He wants to increase his company's sales. One day, Mr Budi got help from a technology company.\n",
    "The company provided Pak Budi with tools in the form of a data system that could help him analyze sales data.\n",
    "Pak Budi was really helped by that. He can increase his company's sales more precisely.\n",
    "\n",
    "Summary: ???"
   ]
  },
  {
   "cell_type": "markdown",
   "metadata": {},
   "source": [
    "### 4. Summary points\n",
    "***\n",
    "\n",
    "__`Goal: Make a list of topics from the meeting transcript`__"
   ]
  },
  {
   "cell_type": "code",
   "execution_count": null,
   "metadata": {
    "vscode": {
     "languageId": "powershell"
    }
   },
   "outputs": [],
   "source": [
    "Example 1:\n",
    "\n",
    "Transcript:\n",
    "00:00 [Mark] Hello, good morning everyone, thank you for taking the time to attend today's meeting.\n",
    "00:05 [Mark] Today let's discuss upcoming product launches.\n",
    "00:10 [Mark] The launch date has been set for next month.\n",
    "00:15 [Sarah] Good news, bro! but we must immediately plan a marketing campaign.\n",
    "00:20 [Sarah] In my opinion, we should use social media and influencers to make this product viral.\n",
    "00:30 [John] I agree with Sarah, we also have to prepare product videos that attract viewers.\n",
    "00:35 [Mark] Very good idea, Sarah, John, let's make a list of what needs to be done and also a timeline for the execution of these tasks.\n",
    "\n",
    "Summary:\n",
    "- New product launching\n",
    "- The launch date has been decided next month\n",
    "- Marketing campaign using social media\n",
    "- Create interesting product videos\n",
    "- Create a timeline of things that must be executed"
   ]
  },
  {
   "cell_type": "markdown",
   "metadata": {},
   "source": [
    "__Summarize the conversation transcript using bullet points. Each point must be a new line. Each point consists of 2-5 words.__\n",
    "\n",
    "`try using some models like: granite-13b-instruct-v2, flan-ul2-20b`"
   ]
  },
  {
   "cell_type": "code",
   "execution_count": null,
   "metadata": {},
   "outputs": [],
   "source": [
    "00:00 [sam] Today I want to share the latest update regarding project X.\n",
    "00:15 [sam] Project X will be finished by the end of this week!\n",
    "00:30 [erin] Wow, that's great news!\n",
    "00:35 [erin] According to customer Y, they agree to buy our product.\n",
    "00:45 [alex] Customer Z also said they wanted to buy our product too.\n",
    "01:05 [sam] Great, lots of good news today!"
   ]
  },
  {
   "cell_type": "code",
   "execution_count": null,
   "metadata": {},
   "outputs": [],
   "source": [
    "00:00 [ali] The purpose of our meeting today is to choose a design for our solution.\n",
    "00:12 [alex] I think the first option is the right choice.\n",
    "00:25 [ali] I also agree.\n",
    "00:40 [erin] However, the advantage of the second option is that it takes less time.\n",
    "01:03 [alex] Actually, that also has to be considered.\n",
    "01:30 [ali] So, what?\n",
    "01:55 [alex] I also agree with the second option.\n",
    "02:20 [erin] Me too.\n",
    "02:45 [ali] OK, let's just use the second option."
   ]
  },
  {
   "cell_type": "code",
   "execution_count": null,
   "metadata": {},
   "outputs": [],
   "source": [
    "00:00 [alex] Hello everyone, let's make plans for the end of year party!\n",
    "00:10 [ali] Hey, what if we eat at a restaurant for lunch?\n",
    "00:21 [sam] That's a great idea.\n",
    "00:47 [sam] What if you watch it after that?\n",
    "01:04 [alex] what about Golf?\n",
    "01:15 [sam] What if, everyone is free to choose to watch or play golf according to their wishes.\n",
    "01:29 [alex] Great idea. Let's have a party!"
   ]
  },
  {
   "cell_type": "markdown",
   "metadata": {},
   "source": [
    "### 5. Study questions\n",
    "***\n",
    "\n",
    "__`Goal: Anticipate questions that customers might ask`__"
   ]
  },
  {
   "cell_type": "code",
   "execution_count": null,
   "metadata": {},
   "outputs": [],
   "source": [
    "Example 1:\n",
    "\n",
    "Topic: overview AutoAI\n",
    "\n",
    "Information:\n",
    "\"AutoAI is a tool with a graphical interface in Watson Studio that can be used to analyze data and find data transformations, algorithms and parameters that are most suitable for your predictive model,\n",
    "AutoAI displays recommendation results by displaying several of the most suitable pipelines as choices for you.\"\n",
    "\n",
    "Questions from the information above:\n",
    "1. How does AutoAI analyze my data?\n",
    "2. How does AutoAI determine the best algorithm?\n",
    "3. How does AutoAI determine the best parameters?\n",
    "4. How does AutoAI sort the best recommendation results?"
   ]
  },
  {
   "cell_type": "code",
   "execution_count": null,
   "metadata": {},
   "outputs": [],
   "source": [
    "Topic: Jupyter notebooks\n",
    "\n",
    "Information: Jupyter Notebook is a web application that allows users to create interactive documents that combine code, text, and visualization.\n",
    "This document can be used for various purposes, such as data analysis, machine learning, and software development.\n",
    "Jupyter Notebook is an easy-to-use and flexible tool, and supports multiple programming languages.\n",
    "Jupyter Notebook documents can be shared and collaborated on easily.\n",
    "\n",
    "Questions from the information above:\n",
    "1. Is Jupyter Notebook just for data scientists?\n",
    "2. What programming languages ​​are supported by Jupyter Notebook?\n",
    "3. How to use Jupyter Notebook?\n",
    "4. What are the advantages of Jupyter Notebook compared to other programming IDEs?"
   ]
  },
  {
   "cell_type": "markdown",
   "metadata": {},
   "source": [
    "__The following information is marked with double quotation marks. Create 4 questions related to this information. questions must be based on the information provided.Questions must be numbered (1, 2, 3, 4)__\n",
    "\n",
    "`try using some models like: granite-13b-instruct-v2, llama-3-70b-instruct, mpt-7b-instruct2`"
   ]
  },
  {
   "cell_type": "code",
   "execution_count": null,
   "metadata": {},
   "outputs": [],
   "source": [
    "Topic: Docker Container\n",
    "\n",
    "Information: \"Docker container is an isolated environment that can be used to run applications.\n",
    "Containers can be used for various applications, such as web servers, databases, or mobile applications.\n",
    "To create a Docker container, you need to have a Docker image. Docker image is a template used to create containers.\n",
    "Docker images can be built from various sources, such as Docker Hub, or you can build your own.\"\n",
    "\n",
    "Questions from the information above:???"
   ]
  },
  {
   "cell_type": "markdown",
   "metadata": {},
   "source": [
    "### 6. Text extraction\n",
    "***\n",
    "\n",
    "__`Goal: Extract the verbs found in each sentence `__"
   ]
  },
  {
   "cell_type": "code",
   "execution_count": null,
   "metadata": {},
   "outputs": [],
   "source": [
    "Example 1:\n",
    "Paragraph: \"Coffee farmers in Kopi Village, Central Java, pick ripe coffee beans carefully so as not to damage the fruit.\n",
    "The coffee beans are then sorted based on size and quality.\n",
    "The sorted coffee beans are then roasted at the right temperature and time to produce a distinctive aroma and taste.\n",
    "The roasted coffee beans are then ground to produce coffee powder. The coffee grounds are then packaged and sold to various regions in Indonesia and abroad.\n",
    "\n",
    "found verbs:\n",
    "- pick\n",
    "- ripe\n",
    "- damage\n",
    "- sort\n",
    "- roast\n",
    "- produce\n",
    "- ground\n",
    "- pack\n",
    "- sell"
   ]
  },
  {
   "cell_type": "code",
   "execution_count": null,
   "metadata": {},
   "outputs": [],
   "source": [
    "Example 2:\n",
    "Paragraph: \"A young man opens a new cardboard box containing the latest smartphone from a well-known brand.\n",
    "The young man carefully took the smartphone out of the box and turned it on.\n",
    "The smartphone immediately displays a bright and sharp screen. The young man smiled with satisfaction because he had got the smartphone he wanted.\"\n",
    "\n",
    "found verbs:\n",
    "- open\n",
    "- emit\n",
    "- turning on\n",
    "- displays\n",
    "- smile"
   ]
  },
  {
   "cell_type": "markdown",
   "metadata": {},
   "source": [
    "__Extract verbs from the given number of sentences:__\n",
    "\n",
    "`try using some models like: llama-2-70b-chat, granite-13b-instruct-v1`"
   ]
  },
  {
   "cell_type": "code",
   "execution_count": null,
   "metadata": {},
   "outputs": [],
   "source": [
    "Paragraph: A foreign tourist is walking around the Borobudur Temple tourist area.\n",
    "The tourists seemed amazed by the beauty of this hundreds of years old temple.\n",
    "The tourist immortalized the moment by taking lots of photos.\n",
    "verb found: ???"
   ]
  },
  {
   "cell_type": "code",
   "execution_count": null,
   "metadata": {},
   "outputs": [],
   "source": [
    "Paragraph: Tea farmers in the Rancabali tea plantation, West Java, pick ripe tea leaves carefully so as not to damage the plants.\n",
    "The tea leaves are then sorted based on size and quality.\n",
    "The sorted tea leaves are then dried in the sun to produce quality tea.\n",
    "verb found: ???"
   ]
  },
  {
   "cell_type": "markdown",
   "metadata": {},
   "source": [
    "### 7. Compare\n",
    "***\n",
    "\n",
    "__`Goal: Identify similarities found in a number of paragraphs `__"
   ]
  },
  {
   "cell_type": "code",
   "execution_count": null,
   "metadata": {},
   "outputs": [],
   "source": [
    "Story 1: \"In a remote village, there lived a young man named Andi. Andi was an intelligent and curious young man. He always wanted to learn new things.\n",
    "One day, Andi heard about the internet. He was very interested in learning it. Andi went to the library and looked for books on the internet.\n",
    "Andi studies the internet diligently. He learns about how to access the internet, how to search for information on the internet, and how to use the internet to communicate.\n",
    "Andi was very happy because he could finally learn new things from the internet. He was determined to use the internet to improve himself and help others.\"\n",
    "\n",
    "Story 2: \"Andi, a young man who lives in a remote village, wants to access the internet. He goes to town to buy a computer and modem.\n",
    "Andi installed a computer and modem in his house. He also started accessing the internet.\n",
    "Andi was very happy because he could finally access the internet. He started looking for information on the internet.\n",
    "However, suddenly the electricity went out. Andi couldn't access the internet either.\n",
    "Andi was very disappointed because he couldn't access the internet. He was determined to find a way so he could access the internet at any time.\"\n",
    "\n",
    "similarities between the two stories above:\n",
    "Both tell the story of a young man who wants to learn about the internet.\n",
    "Both told about the challenges faced in accessing the internet."
   ]
  },
  {
   "cell_type": "markdown",
   "metadata": {},
   "source": [
    "__As in the example above, compare the 2 stories given. Look for two similarities between the stories:__\n",
    "\n",
    "`try using some models like: llama-2-70b-chat, flan-ul2-20b`"
   ]
  },
  {
   "cell_type": "code",
   "execution_count": null,
   "metadata": {},
   "outputs": [],
   "source": [
    "Story 1: \"At an airport, a young pilot named Andi was preparing for his flight. He would fly an ATR 72-600 type airplane to a city on another island.\n",
    "Andi is an experienced pilot. He has flown airplanes for several years. However, he remained alert and careful in preparing for his flight.\n",
    "Andi checked all the plane's instruments and ensured that they were all in good condition. He also checked the weather at his destination airport.\n",
    "The weather at the destination airport was quite good, with strong winds blowing from the southwest. Andi decided to continue his flight.\n",
    "Andi flew the plane carefully. He had to adjust his flight direction to the direction of the strong wind.\n",
    "The flight went smoothly. Andi arrived at his destination airport safely. Andi smiled in relief.\n",
    "He managed to fly the plane safely, even though the weather was not very good.\"\n",
    "\n",
    "Story 2: \"One day, Andi again flew an ATR 72-600 flying plane to a city on another island. However, this time the weather at the destination airport was quite bad, with strong winds and heavy rain.\n",
    "Andi decided to cancel his flight. He didn't want to take the risk of flying the plane in bad weather.\n",
    "Andi returned to the airport and waited for the weather to improve. After several hours, the weather at the destination airport began to improve. Andi decided to continue his flight.\n",
    "The flight went smoothly. Andi arrived at his destination airport safely. Andi was grateful because he could fly the plane safely, even though the weather was not very good.\n",
    "He also learned that weather can be a very important factor in aviation.\"\n",
    "\n",
    "similarities between the two stories above: ??"
   ]
  },
  {
   "cell_type": "code",
   "execution_count": null,
   "metadata": {},
   "outputs": [],
   "source": [
    "Story 1: \"In a big city, there lived a young woman named Intan. Intan worked as an office employee. She worked from morning to evening, and often came home late at night.\n",
    "Intan is very tired from her work. He felt like he didn't have time for himself. He can only sleep and work.\n",
    "One day, Intan came home from work early. He wants to spend time for himself.\n",
    "Intan went to the city park. He sat on a bench and enjoyed the garden atmosphere. He felt very peaceful and calm.\n",
    "Intan realized that she needed to take time for herself. He needs to balance his work and personal life.\"\n",
    "\n",
    "Story 2: \"One day, Andi, an office employee, was walking home from his office. He felt very tired. He had worked hard for hours.\n",
    "Andi arrived at his house and immediately went into his room. He lay down on the bed and soon fell asleep.\n",
    "Andi woke up several hours later. He felt very fresh. He decided to go outside to get some fresh air.\n",
    "Andi took a walk around his house complex. He saw people gathering and chatting. He felt jealous of them.\n",
    "Andi realized that he needed to take time for himself. He needs to interact with the people around him.\"\n",
    "\n",
    "similarities between the two stories above: ??"
   ]
  },
  {
   "cell_type": "markdown",
   "metadata": {},
   "source": [
    "### 8. Text search\n",
    "***\n",
    "\n",
    "__`Goal: Find pages containing the searched word `__\n",
    "\n",
    "Pages as search sources:"
   ]
  },
  {
   "cell_type": "code",
   "execution_count": null,
   "metadata": {},
   "outputs": [],
   "source": [
    "Page 1: Mom and Dad are busy in the kitchen, preparing a birthday cake for Adi. They beat eggs, flour and sugar until fluffy. Then, they poured the cake batter into a baking pan and put it in the oven. The fragrant aroma of cake filled the room. Adi couldn't wait to taste his birthday cake.\n",
    "Page 2: Adi's mother decorates the birthday cake with chocolate cream and colorful sugar sprinkles. He also wrote \"Happy Birthday Adi!\" on top of the cake. Adi was very happy to see his birthday cake. He thanked his mother and father.\n",
    "Page 3: Adi blows out the candles on his cake and prays. Then, he cut the cake and shared it with his father, mother and friends. Everyone sing “Happy Birthday” song for Adi. Adi felt very happy. He is grateful for all the gifts and birthday greetings he received."
   ]
  },
  {
   "cell_type": "code",
   "execution_count": null,
   "metadata": {},
   "outputs": [],
   "source": [
    "Below are 3 pages composed of a number of sentences. Each page has a number (1, 2, 3)\n",
    "Page 1: Mom and Dad are busy in the kitchen, preparing a birthday cake for Adi. They beat eggs, flour and sugar until fluffy. Then, they poured the cake batter into a baking pan and put it in the oven. The fragrant smell of cake filled the room. Adi can't wait to taste his birthday cake.\n",
    "Page 2: Adi's mother decorates the birthday cake with chocolate cream and colorful sugar sprinkles. He also wrote \"Happy Birthday Adi!\" on top of the cake. Adi was very happy to see his birthday cake. He thanked his mother and father.\n",
    "Page 3: Adi blows out the candles on his cake and prays. Then, he cut the cake and shared it with his father, mother and friends. Everyone sing “Happy Birthday” song for Adi. Adi felt very happy. He is grateful for all the gifts and birthday greetings he received.\n",
    "\n",
    "Based on pages 1, 2, and 3, search for keywords and show the page number as a result like this\n",
    "\n",
    "Keywords: chocolate\n",
    "Results: Page 2\n",
    "\n",
    "Keywords: Aroma\n",
    "Results:"
   ]
  },
  {
   "cell_type": "markdown",
   "metadata": {},
   "source": [
    "Examples of keywords for search\n",
    "\n",
    "`try using some models like: granite-13b-instruct-v2, llama-3-70b-instruct`"
   ]
  },
  {
   "cell_type": "code",
   "execution_count": null,
   "metadata": {},
   "outputs": [],
   "source": [
    "Words searched:\n",
    "- tasting\n",
    "- chocolate\n",
    "- I'm grateful\n",
    "- ovens"
   ]
  },
  {
   "cell_type": "markdown",
   "metadata": {},
   "source": [
    "### 9. Classify\n",
    "***\n",
    "\n",
    "__`Goal: Detect an  Intention for A customer from chatbot`__"
   ]
  },
  {
   "cell_type": "code",
   "execution_count": null,
   "metadata": {},
   "outputs": [],
   "source": [
    "Classify the given input sentences into one of the following three categories: \"hi\", \"question\", \"problem\".\n",
    "Below are the inputs and categories.\n",
    "\n",
    "input: Hi\n",
    "category: \"hi\"\n",
    "\n",
    "input: How do I start creating an R Notebook?\n",
    "category: \"question\"\n",
    "\n",
    "input: Hi, I'm trying to request a new API access key but I don't know what ID I should use.\n",
    "category: \"problem\"\n",
    "\n",
    "input: Hello, good morning\n",
    "category: \"hi\"\n",
    "\n",
    "input: How to upload dataset from local to RStudio\n",
    "category: ???"
   ]
  },
  {
   "cell_type": "markdown",
   "metadata": {},
   "source": [
    "__Classify the given sentences into one of the following three categories: \"hi\", \"question\", \"problem\".__\n",
    "\n",
    "`try using some models like: granite-13b-instruct-v1, llama-2-70b-chat`"
   ]
  },
  {
   "cell_type": "code",
   "execution_count": null,
   "metadata": {},
   "outputs": [],
   "source": [
    "# Category: \"Hi\"\n",
    "Hello\n",
    "Hi everybody!\n",
    "Good night\n",
    "Hi\n",
    "Hello, good morning"
   ]
  },
  {
   "cell_type": "code",
   "execution_count": null,
   "metadata": {},
   "outputs": [],
   "source": [
    "# Category: \"Questions\"\n",
    "Hi, I want to know how to export data from python notebook?\n",
    "Hi, can I restore a notebook that has been deleted?\n",
    "Hi, how do you add file folders to a project?\n",
    "Hi team How to change the name of a Notebook?\n",
    "How to upload a dataset from local to RStudio\n",
    "Good morning, can you help me upload the shapefile?\n",
    "How do I start creating an R Notebook?"
   ]
  },
  {
   "cell_type": "code",
   "execution_count": null,
   "metadata": {},
   "outputs": [],
   "source": [
    "# Category: \"Issues\"\n",
    "Hi, can't log in today because of an error, account status is inactive. Maybe because the membership has expired.\n",
    "I can't create an account, please help me\n",
    "Hi, I got an error message when creating a Storage Object. Ask for advice. Thank You.\n",
    "Hi, I'm trying to request a new API access key but I don't know what ID I should use.\n",
    "When I try to add a model to any project, the Unauthorized access error appears."
   ]
  },
  {
   "cell_type": "markdown",
   "metadata": {},
   "source": [
    "### 10. Anomaly detection\n",
    "***\n",
    "\n",
    "__`Goal: Find strange entries`__"
   ]
  },
  {
   "cell_type": "code",
   "execution_count": null,
   "metadata": {},
   "outputs": [],
   "source": [
    "# Example 1\n",
    "DATASETS:\n",
    "1: \"Cat\"\n",
    "2: \"Cat\"\n",
    "3: \"Cat\"\n",
    "4: \"Cat\"\n",
    "5: \"Dog\"\n",
    "6: \"Cat\"\n",
    "Anomaly: \"Dog\""
   ]
  },
  {
   "cell_type": "code",
   "execution_count": null,
   "metadata": {},
   "outputs": [],
   "source": [
    "# Example 2\n",
    "DATASETS:\n",
    "1: \"Deer\"\n",
    "2: \"Camel\"\n",
    "3: \"Deer\"\n",
    "4: \"Deer\"\n",
    "5: \"Deer\"\n",
    "6: \"Deer\"\n",
    "Anomaly: \"Camel\""
   ]
  },
  {
   "cell_type": "code",
   "execution_count": null,
   "metadata": {},
   "outputs": [],
   "source": [
    "# Example 3\n",
    "DATASETS:\n",
    "1: \"Turtle\"\n",
    "2: \"Turtle\"\n",
    "3: \"Turkey\"\n",
    "4: \"Turtle\"\n",
    "5: \"Turtle\"\n",
    "6: \"Turtle\"\n",
    "Anomaly: \"Turkey\""
   ]
  },
  {
   "cell_type": "markdown",
   "metadata": {},
   "source": [
    "__Here there is a DATASET with 6 entries each. Among these entries there is a unique and different word called anomaly. Find Anomalies from the following DATASET.__\n",
    "\n",
    "`try using some models like: granite-13b-instruct-v1, llama-2-70b-chat`"
   ]
  },
  {
   "cell_type": "code",
   "execution_count": null,
   "metadata": {},
   "outputs": [],
   "source": [
    "1: \"Bear\"\n",
    "2: \"Bear\"\n",
    "3: \"Cat\"\n",
    "4: \"Bear\"\n",
    "5: \"Bear\"\n",
    "6: \"Bear\""
   ]
  },
  {
   "cell_type": "markdown",
   "metadata": {},
   "source": [
    "### 11. Math questions\n",
    "***\n",
    "\n",
    "__`Goal: How many minutes are there in one day?`__\n",
    "\n",
    "_hint: try using granite-13b-instruct-v1, mt0-xxl-13b_"
   ]
  },
  {
   "cell_type": "code",
   "execution_count": null,
   "metadata": {},
   "outputs": [],
   "source": [
    "Number of minutes in 1 hour: 60\n",
    "Number of minutes in 2 hours: 120\n",
    "Number of minutes in 3 hours: 180\n",
    "Number of minutes in 12 hours: 720\n",
    "Number of minutes in 24 hours: ???"
   ]
  },
  {
   "cell_type": "markdown",
   "metadata": {},
   "source": [
    "### 12. Write with persona\n",
    "***\n",
    "\n",
    "__`Goal: Rewrite the sentence in a different style`__"
   ]
  },
  {
   "cell_type": "markdown",
   "metadata": {},
   "source": [
    "__Rewrite the following sentence using a different writing style__"
   ]
  },
  {
   "cell_type": "code",
   "execution_count": null,
   "metadata": {},
   "outputs": [],
   "source": [
    "Subject: 10th Anniversary Special Promo\n",
    "Dear. [Recipient's name],\n",
    "Warm regards,\n",
    "Hopefully you and your family are always in good health.\n",
    "On this occasion, we would like to thank you for your continued trust in [company name].\n",
    "In order to celebrate our 10th anniversary, we want to give you a special promotion. Get a 20% discount on all our products, valid until [date].\n",
    "Here are some of the products you can buy with this promo:\n",
    "[Product name 1]\n",
    "[Product name 2]\n",
    "[Product name 3]\n",
    "To get this promo, you simply enter the promo code [promo code] when checking out.\n",
    "This promotion applies to all purchases on [sales channel].\n",
    "We hope that this promo can be our appreciation to those of you who have become loyal customers of [company name].\n",
    "Thank You,\n",
    "[Company name]"
   ]
  },
  {
   "cell_type": "markdown",
   "metadata": {},
   "source": [
    "Rewrite the email above using a more relaxed and friendly writing style.\n",
    "\n",
    "`try using some models like: llama-3-70b-instruct`"
   ]
  }
 ],
 "metadata": {
  "language_info": {
   "name": "python"
  }
 },
 "nbformat": 4,
 "nbformat_minor": 2
}
